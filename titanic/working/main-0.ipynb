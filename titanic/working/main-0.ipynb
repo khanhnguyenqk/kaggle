{
 "cells": [
  {
   "cell_type": "code",
   "execution_count": 1,
   "metadata": {
    "_cell_guid": "b1076dfc-b9ad-4769-8c92-a6c4dae69d19",
    "_uuid": "8f2839f25d086af736a60e9eeb907d3b93b6e0e5"
   },
   "outputs": [],
   "source": [
    "# This Python 3 environment comes with many helpful analytics libraries installed\n",
    "# It is defined by the kaggle/python docker image: https://github.com/kaggle/docker-python\n",
    "# For example, here's several helpful packages to load in \n",
    "\n",
    "import numpy as np # linear algebra\n",
    "import pandas as pd # data processing, CSV file I/O (e.g. pd.read_csv)\n",
    "\n",
    "# Input data files are available in the \"../input/\" directory.\n",
    "# For example, running this (by clicking run or pressing Shift+Enter) will list all files under the input directory\n",
    "\n",
    "import os\n",
    "for dirname, _, filenames in os.walk('/kaggle/input'):\n",
    "    for filename in filenames:\n",
    "        print(os.path.join(dirname, filename))\n",
    "\n",
    "# Any results you write to the current directory are saved as output."
   ]
  },
  {
   "cell_type": "code",
   "execution_count": 4,
   "metadata": {
    "_cell_guid": "79c7e3d0-c299-4dcb-8224-4455121ee9b0",
    "_uuid": "d629ff2d2480ee46fbb7e2d37f6b5fab8052498a"
   },
   "outputs": [],
   "source": [
    "import seaborn as sns\n",
    "import matplotlib.pyplot as plt\n",
    "\n",
    "from sklearn.base import BaseEstimator, TransformerMixin\n",
    "from sklearn.pipeline import Pipeline, make_pipeline\n",
    "from sklearn.preprocessing import OneHotEncoder, LabelEncoder, OrdinalEncoder\n",
    "from sklearn.compose import ColumnTransformer, make_column_transformer\n",
    "from sklearn.impute import SimpleImputer\n",
    "from sklearn.model_selection import train_test_split\n",
    "from sklearn.metrics import accuracy_score\n",
    "from sklearn.model_selection import GridSearchCV, cross_val_score, RandomizedSearchCV\n",
    "from sklearn.ensemble import RandomForestClassifier\n",
    "from sklearn.linear_model import SGDClassifier\n",
    "from sklearn.metrics import roc_auc_score\n",
    "\n",
    "from xgboost import XGBClassifier\n",
    "\n",
    "from scipy import stats\n",
    "\n",
    "%matplotlib inline"
   ]
  },
  {
   "cell_type": "code",
   "execution_count": 3,
   "metadata": {},
   "outputs": [],
   "source": [
    "trainCsvFilepath = r'../input/titanic/train.csv'\n",
    "trainData = pd.read_csv(trainCsvFilepath)\n",
    "\n",
    "testCsvFilepath = r'../input/titanic/test.csv'\n",
    "testData = pd.read_csv(testCsvFilepath)"
   ]
  },
  {
   "cell_type": "markdown",
   "metadata": {},
   "source": [
    "# Custom Pipeline"
   ]
  },
  {
   "cell_type": "code",
   "execution_count": 5,
   "metadata": {},
   "outputs": [],
   "source": [
    "class FeatureDropper(BaseEstimator, TransformerMixin):\n",
    "    def __init__(self, featuresToDrop):\n",
    "        self.featuresToDrop = featuresToDrop\n",
    "        \n",
    "    def fit(self, X, y=None):\n",
    "        return self\n",
    "    \n",
    "    def transform(self, X, y=None):\n",
    "        return X.drop(columns=self.featuresToDrop)"
   ]
  },
  {
   "cell_type": "code",
   "execution_count": 7,
   "metadata": {},
   "outputs": [],
   "source": [
    "X_train, X_valid, y_train, y_valid = train_test_split(trainData.drop(columns=['Survived']), trainData['Survived'], test_size=0.2)"
   ]
  },
  {
   "cell_type": "markdown",
   "metadata": {},
   "source": [
    "# Wrangling"
   ]
  },
  {
   "cell_type": "code",
   "execution_count": 13,
   "metadata": {},
   "outputs": [],
   "source": [
    "pipeline = make_pipeline(SimpleImputer(strategy='most_frequent'), OneHotEncoder())\n",
    "\n",
    "preprocessor = make_column_transformer(\n",
    "    (pipeline, ['Embarked']),\n",
    "    (OneHotEncoder(), ['Sex']),\n",
    "    #(OrdinalEncoder(), ['Cabin']),\n",
    "    remainder='passthrough'\n",
    ")"
   ]
  },
  {
   "cell_type": "code",
   "execution_count": 27,
   "metadata": {},
   "outputs": [],
   "source": [
    "models = [\n",
    "    #RandomForestClassifier(n_estimators=1, random_state=42),\n",
    "    XGBClassifier(n_jobs=-1),\n",
    "    #SGDClassifier()\n",
    "]"
   ]
  },
  {
   "cell_type": "code",
   "execution_count": 28,
   "metadata": {},
   "outputs": [],
   "source": [
    "my_pipelines = []\n",
    "for model in models:\n",
    "    my_pipelines.append(Pipeline(steps=[\n",
    "        ('drop', FeatureDropper(['PassengerId', 'Name', 'Ticket', 'Cabin', 'Age'])),\n",
    "        ('preprocessor', preprocessor),\n",
    "        ('model', model)\n",
    "    ]))"
   ]
  },
  {
   "cell_type": "code",
   "execution_count": 29,
   "metadata": {},
   "outputs": [
    {
     "name": "stdout",
     "output_type": "stream",
     "text": [
      "0.7541899441340782\n"
     ]
    }
   ],
   "source": [
    "for idx, pipeline in enumerate(my_pipelines):\n",
    "    pipeline.fit(X_train, y_train)\n",
    "    pred = pipeline.predict(X_valid)\n",
    "    print(accuracy_score(y_valid, pred))"
   ]
  },
  {
   "cell_type": "code",
   "execution_count": 30,
   "metadata": {},
   "outputs": [],
   "source": [
    "my_pipeline = my_pipelines[0]"
   ]
  },
  {
   "cell_type": "code",
   "execution_count": 31,
   "metadata": {},
   "outputs": [],
   "source": [
    "my_pipeline.fit(X_train, y_train);"
   ]
  },
  {
   "cell_type": "code",
   "execution_count": 38,
   "metadata": {},
   "outputs": [],
   "source": [
    "preds = gridSearch.predict(X_valid)"
   ]
  },
  {
   "cell_type": "code",
   "execution_count": 39,
   "metadata": {},
   "outputs": [
    {
     "data": {
      "text/plain": [
       "0.7597765363128491"
      ]
     },
     "execution_count": 39,
     "metadata": {},
     "output_type": "execute_result"
    }
   ],
   "source": [
    "accuracy_score(y_valid, preds)"
   ]
  },
  {
   "cell_type": "code",
   "execution_count": 34,
   "metadata": {},
   "outputs": [
    {
     "name": "stderr",
     "output_type": "stream",
     "text": [
      "C:\\Anaconda3x64\\envs\\ml\\lib\\site-packages\\sklearn\\model_selection\\_split.py:2053: FutureWarning: You should specify a value for 'cv' instead of relying on the default value. The default value will change from 3 to 5 in version 0.22.\n",
      "  warnings.warn(CV_WARNING, FutureWarning)\n"
     ]
    },
    {
     "name": "stdout",
     "output_type": "stream",
     "text": [
      "best score=0.8188202247191011\n",
      "best params={'model__learning_rate': 0.1, 'model__max_depth': 3, 'model__n_estimators': 50}\n"
     ]
    }
   ],
   "source": [
    "param_grid = {'model__n_estimators':[50, 90, 100, 110, 200],\n",
    "             'model__max_depth':[3, 4, 5],\n",
    "             'model__learning_rate':[0.5, 0.1, 0.01, 0.001]}\n",
    "\n",
    "gridSearch = GridSearchCV(my_pipeline, param_grid, scoring='accuracy', n_jobs=-1)\n",
    "gridSearch.fit(X_train, y_train)\n",
    "print(f'best score={gridSearch.best_score_}')\n",
    "print(f'best params={gridSearch.best_params_}')"
   ]
  },
  {
   "cell_type": "code",
   "execution_count": 37,
   "metadata": {},
   "outputs": [
    {
     "name": "stderr",
     "output_type": "stream",
     "text": [
      "C:\\Anaconda3x64\\envs\\ml\\lib\\site-packages\\sklearn\\model_selection\\_split.py:2053: FutureWarning: You should specify a value for 'cv' instead of relying on the default value. The default value will change from 3 to 5 in version 0.22.\n",
      "  warnings.warn(CV_WARNING, FutureWarning)\n"
     ]
    },
    {
     "name": "stdout",
     "output_type": "stream",
     "text": [
      "best score=0.824438202247191\n",
      "best params={'model__gamma': 2.047218209284222, 'model__learning_rate': 0.07505267774542453, 'model__max_depth': 5, 'model__min_child_weight': 4.088648983867801, 'model__n_estimators': 188, 'model__subsample': 0.9841390352031275}\n"
     ]
    }
   ],
   "source": [
    "\n",
    "# param_dist = {'model__n_estimators': stats.randint(100, 200),\n",
    "#               'model__learning_rate': stats.uniform(0.01, 0.6),\n",
    "#               'model__subsample': stats.uniform(0.3, 0.9),\n",
    "#               'model__max_depth': [3, 4, 5, 6, 7, 8, 9],\n",
    "#               'model__colsample_bytree': stats.uniform(0.5, 0.9),\n",
    "#               'model__min_child_weight': [1, 2, 3, 4]\n",
    "#              }\n",
    "\n",
    "one_to_left = stats.beta(10, 1)  \n",
    "from_zero_positive = stats.expon(0, 50)\n",
    "param_dis = {  \n",
    "    \"model__n_estimators\": stats.randint(40, 200),\n",
    "    \"model__max_depth\": stats.randint(3, 6),\n",
    "    \"model__learning_rate\": stats.uniform(0.05, 0.4),\n",
    "    #\"colsample_bytree\": one_to_left,\n",
    "    \"model__subsample\": one_to_left,\n",
    "    \"model__gamma\": stats.uniform(0, 10),\n",
    "    #'model__reg_alpha': from_zero_positive,\n",
    "    \"model__min_child_weight\": from_zero_positive,\n",
    "}\n",
    "\n",
    "gridSearch = RandomizedSearchCV(my_pipeline, param_distributions=param_dis, scoring='accuracy', n_jobs=-1)\n",
    "gridSearch.fit(X_train, y_train)\n",
    "print(f'best score={gridSearch.best_score_}')\n",
    "print(f'best params={gridSearch.best_params_}')"
   ]
  },
  {
   "cell_type": "code",
   "execution_count": 82,
   "metadata": {},
   "outputs": [],
   "source": [
    "X_test = cleanupMakeCopy(testData)"
   ]
  },
  {
   "cell_type": "code",
   "execution_count": 83,
   "metadata": {},
   "outputs": [],
   "source": [
    "y_preds = gridSearch.predict(X_test)"
   ]
  },
  {
   "cell_type": "code",
   "execution_count": 60,
   "metadata": {},
   "outputs": [],
   "source": [
    "# Save predictions in format used for competition scoring\n",
    "output = pd.DataFrame({'PassengerId': testData.PassengerId,\n",
    "                       'Survived': y_preds})\n",
    "output.to_csv('submission.csv', index=False)"
   ]
  },
  {
   "cell_type": "code",
   "execution_count": null,
   "metadata": {},
   "outputs": [],
   "source": []
  }
 ],
 "metadata": {
  "kernelspec": {
   "display_name": "Python 3",
   "language": "python",
   "name": "python3"
  },
  "language_info": {
   "codemirror_mode": {
    "name": "ipython",
    "version": 3
   },
   "file_extension": ".py",
   "mimetype": "text/x-python",
   "name": "python",
   "nbconvert_exporter": "python",
   "pygments_lexer": "ipython3",
   "version": "3.6.8"
  }
 },
 "nbformat": 4,
 "nbformat_minor": 1
}
