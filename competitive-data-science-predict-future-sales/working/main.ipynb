{
 "cells": [
  {
   "cell_type": "code",
   "execution_count": 21,
   "metadata": {},
   "outputs": [
    {
     "name": "stdout",
     "output_type": "stream",
     "text": [
      "578.5999999999999\n",
      "0.07947761194029823\n"
     ]
    }
   ],
   "source": [
    "base = 536\n",
    "crit_rate = 0.15\n",
    "crit_dmg = 820\n",
    "\n",
    "expected_dmg = base * (1 - crit_rate) + crit_dmg * crit_rate\n",
    "print(expected_dmg)\n",
    "print(expected_dmg / base - 1)"
   ]
  },
  {
   "cell_type": "code",
   "execution_count": null,
   "metadata": {},
   "outputs": [],
   "source": []
  }
 ],
 "metadata": {
  "kernelspec": {
   "display_name": "Python 3",
   "language": "python",
   "name": "python3"
  },
  "language_info": {
   "codemirror_mode": {
    "name": "ipython",
    "version": 3
   },
   "file_extension": ".py",
   "mimetype": "text/x-python",
   "name": "python",
   "nbconvert_exporter": "python",
   "pygments_lexer": "ipython3",
   "version": "3.6.8"
  }
 },
 "nbformat": 4,
 "nbformat_minor": 2
}
